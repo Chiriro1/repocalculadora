{
  "cells": [
    {
      "cell_type": "markdown",
      "metadata": {
        "id": "view-in-github",
        "colab_type": "text"
      },
      "source": [
        "<a href=\"https://colab.research.google.com/github/Chiriro1/repocalculadora/blob/main/Ol%C3%A1%2C_este_%C3%A9_o_Colaboratory.ipynb\" target=\"_parent\"><img src=\"https://colab.research.google.com/assets/colab-badge.svg\" alt=\"Open In Colab\"/></a>"
      ]
    },
    {
      "cell_type": "code",
      "source": [
        "numero1 = int(input('Digite o numero 1:'))\n",
        "operacao = input('Digite a operação:')\n",
        "numero2 = int(input('Digite o numero 2:'))\n",
        "\n",
        "if operacao == '+':\n",
        "\tresultado = numero1 + numero2\n",
        "elif operacao == '-':\n",
        "\tresultado = numero1 - numero2\n",
        "elif operacao == '/':\n",
        "\tresultado = numero1 / numero2\n",
        "elif operacao == '*':\n",
        "\tresultado = numero1 * numero2\n",
        "else:\n",
        "\tresultado = 'Operação inválida'\n",
        "print(str(numero1) + ''+ str(operacao) + '' + str(numero2) + ' = ' + str(resultado))"
      ],
      "metadata": {
        "id": "hQ3Lep9t4Guz"
      },
      "execution_count": null,
      "outputs": []
    }
  ],
  "metadata": {
    "colab": {
      "name": "Olá, este é o Colaboratory",
      "toc_visible": true,
      "provenance": [],
      "include_colab_link": true
    },
    "kernelspec": {
      "display_name": "Python 3",
      "name": "python3"
    }
  },
  "nbformat": 4,
  "nbformat_minor": 0
}